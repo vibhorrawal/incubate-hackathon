{
  "nbformat": 4,
  "nbformat_minor": 0,
  "metadata": {
    "colab": {
      "name": "novelty-detection.ipynb",
      "version": "0.3.2",
      "provenance": [],
      "collapsed_sections": []
    },
    "kernelspec": {
      "name": "python3",
      "display_name": "Python 3"
    }
  },
  "cells": [
    {
      "cell_type": "code",
      "metadata": {
        "id": "gVIanJupY8G7",
        "colab_type": "code",
        "colab": {}
      },
      "source": [
        "import matplotlib.pyplot as plt\n",
        "import matplotlib.font_manager\n",
        "from sklearn import svm\n",
        "import numpy as np\n",
        "import pandas as pd\n"
      ],
      "execution_count": 0,
      "outputs": []
    },
    {
      "cell_type": "code",
      "metadata": {
        "id": "vl_F87vrZDNh",
        "colab_type": "code",
        "outputId": "dd55788d-f27a-47cb-f921-25ce8d74c7b8",
        "colab": {
          "base_uri": "https://localhost:8080/",
          "height": 34
        }
      },
      "source": [
        "\n",
        "data = pd.read_csv('sheet1.csv')\n",
        "data1 = data.drop(columns=['Unnamed: 2','Unnamed: 3','Unnamed: 4',\t'Unnamed: 5'],axis=1)\n",
        "data2 = data1.drop(index=[0])\n",
        "data3 = data2.rename(columns={'Unnamed: 0':'Sr Number:','Unnamed: 1':'Captured Date and Time','Unnamed: 6':'Active Energy(kWh) Import',\\\n",
        "                     'Unnamed: 7':'Active Energy(kWh) Export','Unnamed: 8':'Apparent Energy(kVAh)\tImport','Unnamed: 9':'Apparent Energy(kVAh)\tExport',\\\n",
        "                     'Unnamed: 10':'Average Voltage(V)','Unnamed: 11':'Average Current(A)','Unnamed: 12':'Neutral Current(A)','Unnamed: 13':'Status Byte'})\n",
        "data4 = data3.drop(index=[1,2,3])\n",
        "data5 = data4\n",
        "data5.head()\n",
        "data5['Average Current(A)'] = data5['Average Current(A)'].astype('float64')\n",
        "data5['Average Voltage(V)'] = data5['Average Voltage(V)'].astype('float64')\n",
        "data5['Average Power'] = (data5['Average Current(A)']*data5['Average Voltage(V)']).astype('float64')\n",
        "data5[['Captured Date and Time', 'Average Power']].head()\n",
        "data6 =  data5[['Captured Date and Time','Average Power']].rename(columns= {'Average Power': 'feature_1'})\n",
        "data6['Captured Date and Time'] = data6['Captured Date and Time'].astype('datetime64')\n",
        "data6['Captured Date and Time'] = data6['Captured Date and Time'].astype('int64')\n",
        "d1 = data6[:96]\n",
        "d2 = data6[96:192]\n",
        "dd1 = np.array(d1['feature_1'])\n",
        "l = list(dd1)\n",
        "sd1 = np.arange(0, 1, (1/96))\n",
        "l2 = list(sd1)\n",
        "l = np.append(l,l2)\n",
        "dd2 = np.array(l.reshape(96,2))\n",
        "dd2.shape"
      ],
      "execution_count": 0,
      "outputs": [
        {
          "output_type": "execute_result",
          "data": {
            "text/plain": [
              "(96, 2)"
            ]
          },
          "metadata": {
            "tags": []
          },
          "execution_count": 65
        }
      ]
    },
    {
      "cell_type": "code",
      "metadata": {
        "id": "a9JE313NZEnN",
        "colab_type": "code",
        "outputId": "6d302ffb-ceb3-45d8-aca2-df842aefa2af",
        "colab": {
          "base_uri": "https://localhost:8080/",
          "height": 67
        }
      },
      "source": [
        "# fit the model\n",
        "clf = svm.OneClassSVM(nu=0.1, kernel=\"rbf\", gamma=0.5)\n",
        "clf.fit(dd2)"
      ],
      "execution_count": 0,
      "outputs": [
        {
          "output_type": "execute_result",
          "data": {
            "text/plain": [
              "OneClassSVM(cache_size=200, coef0=0.0, degree=3, gamma=0.5, kernel='rbf',\n",
              "            max_iter=-1, nu=0.1, random_state=None, shrinking=True, tol=0.001,\n",
              "            verbose=False)"
            ]
          },
          "metadata": {
            "tags": []
          },
          "execution_count": 66
        }
      ]
    },
    {
      "cell_type": "code",
      "metadata": {
        "id": "wrhlUJPWaEdR",
        "colab_type": "code",
        "outputId": "ce3f72f8-3140-471a-8c50-e8533933e316",
        "colab": {
          "base_uri": "https://localhost:8080/",
          "height": 34
        }
      },
      "source": [
        "l = clf.predict(dd2)\n",
        "print('normal data(higher than theta, here 0)', sum(l) / len(l))\n",
        "# l"
      ],
      "execution_count": 0,
      "outputs": [
        {
          "output_type": "stream",
          "text": [
            "0.5625\n"
          ],
          "name": "stdout"
        }
      ]
    },
    {
      "cell_type": "code",
      "metadata": {
        "id": "j9bhie14aIiA",
        "colab_type": "code",
        "outputId": "daa2eb8a-35ad-4697-c8ec-f22523775ce6",
        "colab": {
          "base_uri": "https://localhost:8080/",
          "height": 286
        }
      },
      "source": [
        "plt.plot(dd2[:,0])\n",
        "plt.legend('Normal user activity')\n",
        "plt.show()"
      ],
      "execution_count": 0,
      "outputs": [
        {
          "output_type": "execute_result",
          "data": {
            "text/plain": [
              "[<matplotlib.lines.Line2D at 0x7f740228fcc0>]"
            ]
          },
          "metadata": {
            "tags": []
          },
          "execution_count": 68
        },
        {
          "output_type": "display_data",
          "data": {
            "image/png": "[encoded data removed]",
            "text/plain": [
              "<Figure size 432x288 with 1 Axes>"
            ]
          },
          "metadata": {
            "tags": []
          }
        }
      ]
    },
    {
      "cell_type": "code",
      "metadata": {
        "id": "AgLe9_uoaMhv",
        "colab_type": "code",
        "outputId": "3a0031be-c106-45df-b60d-4838e826a9f1",
        "colab": {
          "base_uri": "https://localhost:8080/",
          "height": 50
        }
      },
      "source": [
        "ran = 10*np.random.randint(0,100, size=(96,1))\n",
        "ran = dd2+ran\n",
        "l = clf.predict(ran)\n",
        "print( 'Outlier Data', sum(l) / len(l))\n",
        "plt.legend('Anomaly activity')\n",
        "\n",
        "if((sum(l) / len(l)) < -0.9):\n",
        "  print('anomaly detected raise alert')\n",
        "# l"
      ],
      "execution_count": 0,
      "outputs": [
        {
          "output_type": "stream",
          "text": [
            "-1.0\n",
            "anomaly detected raise alert\n"
          ],
          "name": "stdout"
        }
      ]
    },
    {
      "cell_type": "code",
      "metadata": {
        "id": "RKvTMHgTaO6S",
        "colab_type": "code",
        "outputId": "a1e660ed-a4e1-427d-8570-c848ef57f7b5",
        "colab": {
          "base_uri": "https://localhost:8080/",
          "height": 286
        }
      },
      "source": [
        "plt.plot(ran[:,0])\n",
        "plt.show()\n"
      ],
      "execution_count": 0,
      "outputs": [
        {
          "output_type": "execute_result",
          "data": {
            "text/plain": [
              "[<matplotlib.lines.Line2D at 0x7f740207b470>]"
            ]
          },
          "metadata": {
            "tags": []
          },
          "execution_count": 70
        },
        {
          "output_type": "display_data",
          "data": {
            "image/png": "[encoded data removed]",
            "text/plain": [
              "<Figure size 432x288 with 1 Axes>"
            ]
          },
          "metadata": {
            "tags": []
          }
        }
      ]
    },
    {
      "cell_type": "code",
      "metadata": {
        "id": "wqSWjvySaRtO",
        "colab_type": "code",
        "colab": {}
      },
      "source": [
        ""
      ],
      "execution_count": 0,
      "outputs": []
    },
    {
      "cell_type": "code",
      "metadata": {
        "id": "cRd65InCe3KY",
        "colab_type": "code",
        "colab": {}
      },
      "source": [
        ""
      ],
      "execution_count": 0,
      "outputs": []
    }
  ]
}